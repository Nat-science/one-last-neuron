{
 "cells": [
  {
   "cell_type": "markdown",
   "metadata": {},
   "source": [
    "# 1. What are the two values of the Boolean data type? How do you write them?\n"
   ]
  },
  {
   "cell_type": "markdown",
   "metadata": {},
   "source": [
    "The two values of the Boolean data type are \"True\" and \"False\", which are compliant with \"1\" and \"0\". We can write them as \"True\" and \"False\", or \"T\" and \"F\"."
   ]
  },
  {
   "cell_type": "markdown",
   "metadata": {},
   "source": [
    "# 2. What are the three different types of Boolean operators?"
   ]
  },
  {
   "cell_type": "markdown",
   "metadata": {},
   "source": [
    "Three different types of boolean operators are: operators with no inputs, logical operators and comparison operators. \n",
    "2.1. Operators with no inputs are \"True\" and \"False\". A Boolean operator with no inputs always returns the same value. Because of this, \"True\" and \"False\" are the only two Boolean operators that don’t take inputs. \n",
    "2.2. Logical operators are \"and\", \"or\" and \"not\". The \"and\" operator takes two arguments. It evaluates to \"False\" unless both inputs are \"True\".  The \"or\" operator evaluates to \"True\" when one of the inputs is \"True\". The only Boolean operator with one argument is \"not\". It takes one argument and returns the opposite result: \"False\" for \"True\" and \"True\" for \"False\".\n",
    "2.3. Comparison operators. The most common comparison operators are the equality operator (==) and the inequality operator (!=). Another set of test operators are the order comparison operators. There are four order comparison operators that can be categorized by two qualities:\n",
    "\n",
    "Direction: Is it less than or greater than? (<, >)\n",
    "Strictness: Is equality allowed or not? (<=, >=)"
   ]
  },
  {
   "cell_type": "markdown",
   "metadata": {},
   "source": [
    "# 3. Make a list of each Boolean operator's truth tables (i.e. every possible combination of Boolean values for the operator and what it evaluate ).\n"
   ]
  },
  {
   "cell_type": "code",
   "execution_count": 1,
   "metadata": {},
   "outputs": [],
   "source": [
    "import pandas as pd"
   ]
  },
  {
   "cell_type": "code",
   "execution_count": 3,
   "metadata": {},
   "outputs": [
    {
     "name": "stdout",
     "output_type": "stream",
     "text": [
      "        A  not A\n",
      "0    True  False\n",
      "1   False   True\n"
     ]
    }
   ],
   "source": [
    "df_not = {'A' : ['True', ' False'],\n",
    "          'not A' : ['False', 'True']}\n",
    "df_not = pd.DataFrame(df_not)\n",
    "print(df_not)"
   ]
  },
  {
   "cell_type": "code",
   "execution_count": 5,
   "metadata": {},
   "outputs": [
    {
     "name": "stdout",
     "output_type": "stream",
     "text": [
      "       A      B A and B\n",
      "0   True   True    True\n",
      "1  False   True   False\n",
      "2   True  False   False\n",
      "3  False  False   False\n"
     ]
    }
   ],
   "source": [
    "df_and = {'A' : ['True', 'False', 'True', 'False'],\n",
    "          'B' : ['True', 'True', 'False', 'False'],\n",
    "          'A and B': ['True', 'False', 'False', 'False']\n",
    "}\n",
    "\n",
    "df_and = pd.DataFrame(df_and)\n",
    "print(df_and)"
   ]
  },
  {
   "cell_type": "code",
   "execution_count": 6,
   "metadata": {},
   "outputs": [
    {
     "name": "stdout",
     "output_type": "stream",
     "text": [
      "       A      B A or B\n",
      "0   True   True   True\n",
      "1  False   True   True\n",
      "2   True  False   True\n",
      "3  False  False  False\n"
     ]
    }
   ],
   "source": [
    "df_or = {'A' : ['True', 'False', 'True', 'False'],\n",
    "         'B' : ['True', 'True', 'False', 'False'],\n",
    "         'A or B': ['True', 'True', 'True', 'False']}\n",
    "df_or = pd.DataFrame(df_or)\n",
    "print(df_or)"
   ]
  },
  {
   "cell_type": "code",
   "execution_count": 7,
   "metadata": {},
   "outputs": [
    {
     "name": "stdout",
     "output_type": "stream",
     "text": [
      "       x      y x == y\n",
      "0   True   True   True\n",
      "1   True  False  False\n",
      "2  False   True  False\n",
      "3  False  False   True\n"
     ]
    }
   ],
   "source": [
    "df_equal_to = {'x' : ['True', 'True', 'False', 'False'],\n",
    "               'y' : ['True', 'False', 'True', 'False'],\n",
    "               'x == y': ['True', 'False', 'False', 'True']}\n",
    "df_equal_to = pd.DataFrame(df_equal_to)\n",
    "print(df_equal_to)"
   ]
  },
  {
   "cell_type": "code",
   "execution_count": 8,
   "metadata": {},
   "outputs": [
    {
     "name": "stdout",
     "output_type": "stream",
     "text": [
      "   not      x  not x\n",
      "0  not   True  False\n",
      "1  not  False   True\n"
     ]
    }
   ],
   "source": [
    "df_not = {'not' : ['not', 'not'],\n",
    "          'x' : ['True', 'False'],\n",
    "          'not x' : ['False', 'True']}\n",
    "df_not = pd.DataFrame(df_not)\n",
    "print(df_not)"
   ]
  },
  {
   "cell_type": "markdown",
   "metadata": {},
   "source": [
    "# 4. What are the values of the following expressions?"
   ]
  },
  {
   "cell_type": "markdown",
   "metadata": {},
   "source": [
    "4.1 (5 > 4) and (3 == 5)\n",
    "False"
   ]
  },
  {
   "cell_type": "markdown",
   "metadata": {},
   "source": [
    "4.2 not (5 > 4)\n",
    "False"
   ]
  },
  {
   "cell_type": "markdown",
   "metadata": {},
   "source": [
    "4.3 (5 > 4) or (3 == 5)\n",
    "True"
   ]
  },
  {
   "cell_type": "markdown",
   "metadata": {},
   "source": [
    "4.4 not ((5 > 4) or (3 == 5))\n",
    "False"
   ]
  },
  {
   "cell_type": "markdown",
   "metadata": {},
   "source": [
    "4.5 (True and True) and (True == False)\n",
    "False"
   ]
  },
  {
   "cell_type": "markdown",
   "metadata": {},
   "source": [
    "4.6 (not False) or (not True)\n",
    "True"
   ]
  },
  {
   "cell_type": "markdown",
   "metadata": {},
   "source": [
    "# 5. What are the six comparison operators?\n"
   ]
  },
  {
   "cell_type": "markdown",
   "metadata": {},
   "source": [
    "The six comparison operators are: ==, !=, <, >, <=,>="
   ]
  },
  {
   "cell_type": "markdown",
   "metadata": {},
   "source": [
    "# 6. How do you tell the difference between the equal to and assignment operators?Describe a condition and when you would use one.\n"
   ]
  },
  {
   "cell_type": "markdown",
   "metadata": {},
   "source": [
    "= operator is used to assign value to a variable and == operator is used to compare two variable or constants. If I want to assign some value, I use =. For example, x = 5. If I want to compare variable with other variable or with some constatn, I use equal to. For example, if x == 10: print('x has proper value')."
   ]
  },
  {
   "cell_type": "markdown",
   "metadata": {},
   "source": [
    "# 7. Identify the three blocks in this code:\n",
    "spam = 0\n",
    "if spam == 10:\n",
    "print('eggs')\n",
    "if spam > 5:\n",
    "print('bacon')\n",
    "else:\n",
    "print('ham')\n",
    "print('spam')\n",
    "print('spam')\n"
   ]
  },
  {
   "cell_type": "code",
   "execution_count": 16,
   "metadata": {},
   "outputs": [
    {
     "name": "stdout",
     "output_type": "stream",
     "text": [
      "spam\n"
     ]
    }
   ],
   "source": [
    "spam = 0\n",
    "if spam == 10:\n",
    "    print('eggs')        # indent increased, block A\n",
    "    if spam > 5:         # still block A\n",
    "        print('bacon')   # still block A, indent increased, block B inside block A\n",
    "    else:                # still block A, indent decreased, block B ended in line above\n",
    "        print('ham')     # still block A, indent increased, block C inside block A\n",
    "    print('spam')        # still block A, indent decreased, block C ended in line above\n",
    "print('spam')            # indent decreased, block A ended in line above\n"
   ]
  },
  {
   "cell_type": "markdown",
   "metadata": {},
   "source": [
    "# 8. Write code that prints Hello if 1 is stored in spam, prints Howdy if 2 is stored in spam, and prints Greetings! if anything else is stored in spam.\n"
   ]
  },
  {
   "cell_type": "code",
   "execution_count": 21,
   "metadata": {},
   "outputs": [
    {
     "name": "stdout",
     "output_type": "stream",
     "text": [
      "Input your spam number: 10\n",
      "Greetings!\n"
     ]
    }
   ],
   "source": [
    "spam = int(input('Input your spam number: '))\n",
    "\n",
    "if spam != 1 and spam != 2:\n",
    "    print('Greetings!')\n",
    "elif spam == 1:\n",
    "    print('Hello')\n",
    "else:\n",
    "    print('Howdy')"
   ]
  },
  {
   "cell_type": "markdown",
   "metadata": {},
   "source": [
    "# 9.If your programme is stuck in an endless loop, what keys you’ll press?\n"
   ]
  },
  {
   "cell_type": "markdown",
   "metadata": {},
   "source": [
    "CTRL + C"
   ]
  },
  {
   "cell_type": "markdown",
   "metadata": {},
   "source": [
    "# 10. How can you tell the difference between break and continue?\n"
   ]
  },
  {
   "cell_type": "markdown",
   "metadata": {},
   "source": [
    "The Python break statement stops the loop in which the statement is placed. A Python continue statement skips a single iteration in a loop. A break can appear in both switch and loop (for , while , do) statements. A continue can appear only in loop (for , while , do) statements."
   ]
  },
  {
   "cell_type": "markdown",
   "metadata": {},
   "source": [
    "# 11. In a for loop, what is the difference between range(10), range(0, 10), and range(0, 10, 1)?"
   ]
  },
  {
   "cell_type": "markdown",
   "metadata": {},
   "source": [
    "range(10) - we will get a series of numbers that starts at 0 and includes every whole number up to, but not including, the number that user have provided as the stop. we can choose only where we stop. \n",
    "range(0, 10) - we get to decide not only where the series of numbers stops, but also where it starts, so we don’t have to start at 0.\n",
    "range(0, 10, 1) - we can choose not only where the series of numbers will start and stop, but also how big the difference will be between one number and the next."
   ]
  },
  {
   "cell_type": "markdown",
   "metadata": {},
   "source": [
    "# 12. Write a short program that prints the numbers 1 to 10 using a for loop. Then write an equivalent program that prints the numbers 1 to 10 using a while loop.\n"
   ]
  },
  {
   "cell_type": "code",
   "execution_count": 22,
   "metadata": {},
   "outputs": [
    {
     "name": "stdout",
     "output_type": "stream",
     "text": [
      "1\n",
      "2\n",
      "3\n",
      "4\n",
      "5\n",
      "6\n",
      "7\n",
      "8\n",
      "9\n",
      "10\n"
     ]
    }
   ],
   "source": [
    "#for loop\n",
    "\n",
    "for i in range(1, 11):\n",
    "    print(i)"
   ]
  },
  {
   "cell_type": "code",
   "execution_count": 23,
   "metadata": {},
   "outputs": [
    {
     "name": "stdout",
     "output_type": "stream",
     "text": [
      "1\n",
      "2\n",
      "3\n",
      "4\n",
      "5\n",
      "6\n",
      "7\n",
      "8\n",
      "9\n",
      "10\n"
     ]
    }
   ],
   "source": [
    "#while loop\n",
    "i = 1\n",
    "while i < 11:\n",
    "    print(i)\n",
    "    i +=1"
   ]
  },
  {
   "cell_type": "markdown",
   "metadata": {},
   "source": [
    "# 13. If you had a function named bacon() inside a module named spam, how would you call it after importing spam?"
   ]
  },
  {
   "cell_type": "code",
   "execution_count": null,
   "metadata": {},
   "outputs": [],
   "source": [
    "import spam\n",
    "spam.bacon()"
   ]
  }
 ],
 "metadata": {
  "kernelspec": {
   "display_name": "Python 3",
   "language": "python",
   "name": "python3"
  },
  "language_info": {
   "codemirror_mode": {
    "name": "ipython",
    "version": 3
   },
   "file_extension": ".py",
   "mimetype": "text/x-python",
   "name": "python",
   "nbconvert_exporter": "python",
   "pygments_lexer": "ipython3",
   "version": "3.8.5"
  }
 },
 "nbformat": 4,
 "nbformat_minor": 4
}

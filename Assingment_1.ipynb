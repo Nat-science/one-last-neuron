{
 "cells": [
  {
   "cell_type": "raw",
   "metadata": {},
   "source": [
    "1. In the below elements which of them are values or an expression? eg:- values can be integer or string and expressions will be mathematical operators.\n",
    "* \n",
    "'hello'\n",
    "-87.8\n",
    "- \n",
    "/ \n",
    "\n",
    "\n",
    "6 \n"
   ]
  },
  {
   "cell_type": "raw",
   "metadata": {},
   "source": [
    "Values are:\n",
    "'hello', -87.8, 6\n",
    "\n",
    "Expressions are:\n",
    "*, -, /"
   ]
  },
  {
   "cell_type": "raw",
   "metadata": {},
   "source": [
    "2. What is the difference between string and variable?"
   ]
  },
  {
   "cell_type": "raw",
   "metadata": {},
   "source": [
    "Variables are references that we create to refer to other values in the program later. We can assign string or integer or another type of data to a variable.   \n",
    "\n",
    "Strings is the data type for a sequence of characters (e.g. 'hhddklsUUIII77t'). In addition to letters, they can also include numbers spaces, punctuation, and even line breaks (using '\\n' for new line). Strings can not be used for calculationeven it contains only a number o number such '66' or '990'. You would have to convert it to a number data type first to perfom math operations on it."
   ]
  },
  {
   "cell_type": "raw",
   "metadata": {},
   "source": [
    "3. Describe three different data types.\n"
   ]
  },
  {
   "cell_type": "raw",
   "metadata": {},
   "source": [
    "3.1 Numeric Data Type\n",
    "\n",
    "Numeric data type represent the data which has numeric value. Numeric value can be integer, floating number or complex numbers. These values are defines as int, float and complex class. \n",
    "\n",
    "Integers positive or negative whole numbers without fraction or decimal. Float is a real number with floating point representation. It is specified by a decimal point. Complex numbers consists of (real part) + (imaginary part).\n",
    "\n",
    "3.2 Sequence Data Type\n",
    "\n",
    "Sequence type is the ordered collection of data types, similar or different. Sequences allows to store multiple values in an organized and efficient fashion. There are three sequence types: string, list and tuple. String is a collection of characters representing Unicode characters. List is an ordered mutable collection of data, and tuple is oredered immutable collection of data. \n",
    "\n",
    "3.3 Boolean Data Type\n",
    "\n",
    "Boolean is the data type with one of the two built-in values, True or False. Boolean objects that are equal to True are truthy, and those equal to False are falsy. Non-Boolean objects can be evaluated in Boolean context as well as determind to be true or false."
   ]
  },
  {
   "cell_type": "raw",
   "metadata": {},
   "source": [
    "4. What is an expression made up of? What do all expressions do?"
   ]
  },
  {
   "cell_type": "raw",
   "metadata": {},
   "source": [
    "An expression is construct made up of variables, operators, and method invocations, which are constructed according to the Python syntax. Expressions represent something, like a number, a string, or an instance of a class. Any value is an expression. "
   ]
  },
  {
   "cell_type": "raw",
   "metadata": {},
   "source": [
    "5. This assignment statements, like spam = 10. What is the difference between an expression and a statement?"
   ]
  },
  {
   "cell_type": "raw",
   "metadata": {},
   "source": [
    "Difference between an expression and a statement is that expressions represent something, and statement does something. Any assignment to a variable or function call is a statement. Any value contained in that statement is an expression."
   ]
  },
  {
   "cell_type": "raw",
   "metadata": {},
   "source": [
    "6. After running the following code, what does the variable bacon contain?\n",
    "\n",
    "bacon = 22\n",
    "bacon + 1"
   ]
  },
  {
   "cell_type": "raw",
   "metadata": {},
   "source": [
    "After running this code, the variable bacon will contain the value 22, because we did not change this variable."
   ]
  },
  {
   "cell_type": "raw",
   "metadata": {},
   "source": [
    "7. What should the values of the following two terms be?\n",
    "'spam' + 'spamspam'\n",
    "'spam' * 3"
   ]
  },
  {
   "cell_type": "raw",
   "metadata": {},
   "source": [
    "Value of the first term: 'spamspamspam'\n",
    "Value of the second will be the same: 'spamspamspam'"
   ]
  },
  {
   "cell_type": "raw",
   "metadata": {},
   "source": [
    "8. Why is eggs a valid variable name while 100 is invalid?"
   ]
  },
  {
   "cell_type": "raw",
   "metadata": {},
   "source": [
    "Because variable names cannot beging with a number."
   ]
  },
  {
   "cell_type": "raw",
   "metadata": {},
   "source": [
    "9. What three functions can be used to get the integer, floating-point number, or string version of a value?"
   ]
  },
  {
   "cell_type": "raw",
   "metadata": {},
   "source": [
    "These functions are:\n",
    "int(value) - get the integer\n",
    "float(value) - get the floating point number\n",
    "str(value) - get the string"
   ]
  },
  {
   "cell_type": "raw",
   "metadata": {},
   "source": [
    "10. Why does this expression cause an error? How can you fix it?\n",
    "'I have eaten ' + 99 + ' burritos.'"
   ]
  },
  {
   "cell_type": "raw",
   "metadata": {},
   "source": [
    "This expression cause an error, because you can't use addition operation, if you have a string and in integer. The correct form of expression is: 'I have eaten ' + str(99) + 'burritos.'  "
   ]
  }
 ],
 "metadata": {
  "kernelspec": {
   "display_name": "Python 3",
   "language": "python",
   "name": "python3"
  },
  "language_info": {
   "codemirror_mode": {
    "name": "ipython",
    "version": 3
   },
   "file_extension": ".py",
   "mimetype": "text/x-python",
   "name": "python",
   "nbconvert_exporter": "python",
   "pygments_lexer": "ipython3",
   "version": "3.8.5"
  }
 },
 "nbformat": 4,
 "nbformat_minor": 4
}
